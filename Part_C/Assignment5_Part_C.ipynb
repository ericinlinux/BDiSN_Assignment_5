{
 "cells": [
  {
   "cell_type": "markdown",
   "metadata": {},
   "source": [
    "# Mining Twitter (Based on Chapter 2 of the book 'Mastering...')\n",
    "\n",
    "In this notebook you will learn the basic concepts of twitter mining and will try to gather some data from Twitter. Follow the steps, and do the exercises in a copy of this notebook. For that, click in *File -> Make a copy...* button. Rename it using your names.\n",
    "\n",
    "To include a new cell in the notebook, click on the plus sign on the toolbar, or tipe *Alt+Enter* to execute the current cell and create a new one. You can also click on the *Cell* menu.\n",
    "\n",
    "## Important\n",
    "You have to run all the commands of this document, and make sure that they were executed well. After you finish, you have to save it as PDF and submit. Click in File -> Download as -> PDF via Latex to do so. \n",
    "\n",
    "**If you don't have Latex at your computer**, simply use File -> Print Preview and generate the PDF from there."
   ]
  },
  {
   "cell_type": "markdown",
   "metadata": {},
   "source": [
    "## Installing libraries\n",
    "If one of the libraries is missing, go to Anaconda, at the Environments tab on the left side of the window and find and install your library.\n",
    "\n",
    "![Anaconda](./Pic16.png)"
   ]
  },
  {
   "cell_type": "markdown",
   "metadata": {},
   "source": [
    "## Tweepy, Json and Python\n",
    "\n",
    "To collect data and make it readable, two libraries will be used. Tweepy is a library that embed the twitter API functions making it easier to interact with the Twitter server.\n",
    "\n",
    "Json is the format that the data is extracted from Twitter. For this reason, the library Json is also important."
   ]
  },
  {
   "cell_type": "markdown",
   "metadata": {},
   "source": [
    "## Create your own key at Twitter webpage\n",
    "You need your own keys to have access to Twitter API. For that, go to https://apps.twitter.com/ then create a new App, and generate the keys. \n",
    "\n",
    "In case you have problems, watch the 5 first minutes of https://www.youtube.com/watch?v=pUUxmvvl2FE\n"
   ]
  },
  {
   "cell_type": "markdown",
   "metadata": {},
   "source": [
    "## Put your keys here!\n",
    "\n",
    "The variables where you should put your keys are below. So copy and paste all the 4 keys and paste them below.\n",
    "\n",
    "The first part of this notebook shows you the Tweepy library being loaded, together with the os and sys libraries. Those are used to check files at your system and yield system messages in case it is necessary.\n",
    "\n",
    "The two functions basically will read your tokens and keys and generate an object that can communicate with Twitter and ask for data. Don't be scared at first moment! Those functions are default for all twitter applications, and are very ugly, indeed. "
   ]
  },
  {
   "cell_type": "code",
   "execution_count": 1,
   "metadata": {
    "collapsed": true
   },
   "outputs": [],
   "source": [
    "import os\n",
    "import sys\n",
    "from tweepy import API\n",
    "from tweepy import OAuthHandler"
   ]
  },
  {
   "cell_type": "code",
   "execution_count": 2,
   "metadata": {
    "collapsed": true
   },
   "outputs": [],
   "source": [
    "def get_twitter_auth():\n",
    "    \"\"\"Setup Twitter authentication.\n",
    "\n",
    "    Return: tweepy.OAuthHandler object\n",
    "    \"\"\"\n",
    "    try:\n",
    "        consumer_key = '6mmCmb6uIoHeVZyW8Oe3NGgTi'# os.environ['TWITTER_CONSUMER_KEY']\n",
    "        consumer_secret = 'vpW8n1YdIVK3aWrfrSDVl60B5zVwSa8TN7EP5OhCEEPHQEqmng' # os.environ['TWITTER_CONSUMER_SECRET']\n",
    "        access_token = '40952530-0OuykTLY5hd41qXficaxIDymKtVqZXMcvXRRmny3u' # os.environ['TWITTER_ACCESS_TOKEN']\n",
    "        access_secret = '69xT9o30ukFgtQyjnwuhhbvR1HvmkfLgn2YRo0vKIEeOU' # os.environ['TWITTER_ACCESS_SECRET']\n",
    "    except KeyError:\n",
    "        sys.stderr.write(\"TWITTER_* environment variables not set\\n\")\n",
    "        sys.exit(1)    \n",
    "    auth = OAuthHandler(consumer_key, consumer_secret)\n",
    "    auth.set_access_token(access_token, access_secret)\n",
    "    return auth"
   ]
  },
  {
   "cell_type": "code",
   "execution_count": 3,
   "metadata": {
    "collapsed": true
   },
   "outputs": [],
   "source": [
    "def get_twitter_client():\n",
    "    \"\"\"Setup Twitter API client.\n",
    "\n",
    "    Return: tweepy.API object\n",
    "    \"\"\"\n",
    "    auth = get_twitter_auth()\n",
    "    client = API(auth)\n",
    "    return client"
   ]
  },
  {
   "cell_type": "markdown",
   "metadata": {},
   "source": [
    "## Getting tweets from your timeline\n",
    "So the first thing I'm gonna do is to read my own tweets from my own timeline. For that, I'll use more stuff from Tweepy (the cursor) and also the library Json. The data dumped on us after we request something to Python API is in Json format. If you wanna learn more about that, feel free to enjoy http://www.w3schools.com/js/js_json_intro.asp"
   ]
  },
  {
   "cell_type": "code",
   "execution_count": 4,
   "metadata": {
    "collapsed": true
   },
   "outputs": [],
   "source": [
    "import json\n",
    "from tweepy import Cursor"
   ]
  },
  {
   "cell_type": "markdown",
   "metadata": {},
   "source": [
    "As you can see below there is no need for changes in the code. the client.home_timeline is the query for the Cursos, that will return 200 times 4 = 800 tweets from your home (that is the maximum you can get from your own timeline).\n",
    "\n",
    "**Notice** that a file named home_timeline.jsonl will be generated on the same folder as you saved this notebook! You can open this file to see a very messy information about all your tweets (one per line)."
   ]
  },
  {
   "cell_type": "code",
   "execution_count": 5,
   "metadata": {
    "collapsed": true
   },
   "outputs": [],
   "source": [
    "client = get_twitter_client()\n",
    "\n",
    "with open('home_timeline.jsonl', 'w') as f:\n",
    "    for page in Cursor(client.home_timeline, count=200, include_rts=True).pages(4):\n",
    "        for status in page:\n",
    "            # Process a single status\n",
    "            f.write(json.dumps(status._json)+\"\\n\")"
   ]
  },
  {
   "cell_type": "markdown",
   "metadata": {},
   "source": [
    "## Activity 1\n",
    "\n",
    "Open the file called home_timeline.jsonl and read it. Use a text editor for that, like Gedit (Linux), Notepad (Windows) or TextEdit (Mac OSx).\n",
    "1. What kind of information do you see in the file?\n",
    "2. Can you get your tweets from the file? If yes, how?\n",
    "3. Can you say what is the code doing by just reading the lines?"
   ]
  },
  {
   "cell_type": "markdown",
   "metadata": {},
   "source": [
    "## Getting tweets from another user's timeline\n",
    "You can also get information about another user's timeline. And the good news are: you can get more than the 800 tweets you got before! But now you have to give the username of the twitter account you wanna take the tweets. We will read 3200 tweets from VUamsterdam account."
   ]
  },
  {
   "cell_type": "code",
   "execution_count": 6,
   "metadata": {
    "collapsed": false
   },
   "outputs": [],
   "source": [
    "user = 'VUamsterdam'\n",
    "fname = \"user_timeline_{}.jsonl\".format(user)\n",
    "with open(fname, 'w') as f:\n",
    "    for page in Cursor(client.user_timeline, screen_name=user, count=200).pages(16):\n",
    "        for status in page:\n",
    "            f.write(json.dumps(status._json)+\"\\n\")"
   ]
  },
  {
   "cell_type": "markdown",
   "metadata": {},
   "source": [
    "## Good to know!\n",
    "Using the Cursos to find tweets from your own account gives you a limit of 800 tweets maximum. When you use the second function, finding the tweets in a user timeline, this limit increaes to 3200.\n",
    "\n",
    "It is also good to know the structure of a tweet. In our code above the *_json* attribute is the one saved in the file. This attribute contains all the information from the tweet in a Json format. The Json format is useful to keep the structure of the information to be saved, and it is the same as a dictionary. In our case, we are creating a jsonl file, or a list of jsons, because every line corresponds to the information of a tweet."
   ]
  },
  {
   "cell_type": "markdown",
   "metadata": {},
   "source": [
    "## Entity Analysis\n",
    "\n",
    "Now that we can get the tweets in a timeline, we can also extract the hashtags and produce the list with the more common ones.\n",
    "\n",
    "Remember that you have to change the name of your input (fname) if you are investigating another account!"
   ]
  },
  {
   "cell_type": "code",
   "execution_count": 7,
   "metadata": {
    "collapsed": true
   },
   "outputs": [],
   "source": [
    "from collections import Counter\n",
    "\n",
    "def get_hashtags(tweet):\n",
    "    entities = tweet.get('entities', {})\n",
    "    hashtags = entities.get('hashtags', [])\n",
    "    return [tag['text'].lower() for tag in hashtags]"
   ]
  },
  {
   "cell_type": "code",
   "execution_count": 8,
   "metadata": {
    "collapsed": false
   },
   "outputs": [
    {
     "name": "stdout",
     "output_type": "stream",
     "text": [
      "vuconferentie: 84\n",
      "wvdw: 84\n",
      "opendagvu: 74\n",
      "ech2016: 70\n",
      "oaj15: 51\n",
      "diesvu: 51\n",
      "vu: 45\n",
      "s4sconference: 42\n",
      "vuevent: 41\n",
      "oaj16: 22\n",
      "sustainability: 21\n",
      "vumag: 21\n",
      "cleansea: 19\n",
      "vumasterdag: 16\n",
      "zwaartekrachtsgolven: 15\n",
      "terugkijktip: 15\n",
      "rio2016: 12\n",
      "meddeaths: 12\n",
      "amsterdam: 12\n",
      "criminologie: 11\n"
     ]
    }
   ],
   "source": [
    "# The file previously created\n",
    "fname = 'user_timeline_VUamsterdam.jsonl'\n",
    "with open(fname, 'r') as f:\n",
    "    hashtags = Counter()\n",
    "    for line in f:\n",
    "        tweet = json.loads(line)\n",
    "        hashtags_in_tweet = get_hashtags(tweet)\n",
    "        hashtags.update(hashtags_in_tweet)\n",
    "    for tag, count in hashtags.most_common(20):\n",
    "        print(\"{}: {}\".format(tag, count))"
   ]
  },
  {
   "cell_type": "markdown",
   "metadata": {},
   "source": [
    "## Question about your data set:\n",
    "1. What is the most common hashtag from your twitter profile? "
   ]
  },
  {
   "cell_type": "markdown",
   "metadata": {},
   "source": [
    "### Going deeper...\n",
    "\n",
    "We can have deeper analysis of the statistics of the hashtags, instead of a simple counting of the number of times each one is used."
   ]
  },
  {
   "cell_type": "code",
   "execution_count": 9,
   "metadata": {
    "collapsed": false
   },
   "outputs": [
    {
     "name": "stdout",
     "output_type": "stream",
     "text": [
      "1865 tweets without hashtags (58.335940%)\n",
      "1332 tweets with at least one hashtag (41.664060%)\n",
      "1012 tweets with 1 hashtags (31.65% total, 75.98% elite)\n",
      "250 tweets with 2 hashtags (7.82% total, 18.77% elite)\n",
      "58 tweets with 3 hashtags (1.81% total, 4.35% elite)\n",
      "10 tweets with 4 hashtags (0.31% total, 0.75% elite)\n",
      "2 tweets with 5 hashtags (0.06% total, 0.15% elite)\n"
     ]
    }
   ],
   "source": [
    "from collections import defaultdict\n",
    "\n",
    "fname = 'user_timeline_VUamsterdam.jsonl'\n",
    "with open(fname, 'r') as f:\n",
    "    hashtag_count = defaultdict(int)\n",
    "    for line in f:\n",
    "        tweet = json.loads(line)\n",
    "        hashtags_in_tweet = get_hashtags(tweet)\n",
    "        n_of_hashtags = len(hashtags_in_tweet)\n",
    "        hashtag_count[n_of_hashtags] += 1\n",
    "\n",
    "    tweets_with_hashtags = sum([count for n_of_tags, count in hashtag_count.items() if n_of_tags > 0])\n",
    "    tweets_no_hashtags = hashtag_count[0]\n",
    "    tweets_total = tweets_no_hashtags + tweets_with_hashtags\n",
    "    # print tweets_total\n",
    "    tweets_with_hashtags_percent = '{:2f}'.format(tweets_with_hashtags * 100.0 / tweets_total )\n",
    "    tweets_no_hashtags_percent = \"{:2f}\".format(tweets_no_hashtags * 100.0 / tweets_total )\n",
    "    # print tweets_no_hashtags_percent\n",
    "    print(\"{0} tweets without hashtags ({1}%)\".format(tweets_no_hashtags, tweets_no_hashtags_percent))\n",
    "    print(\"{} tweets with at least one hashtag ({}%)\".format(tweets_with_hashtags, tweets_with_hashtags_percent))\n",
    "\n",
    "    for tag_count, tweet_count in hashtag_count.items():\n",
    "        if tag_count > 0:\n",
    "            percent_total = \"%.2f\" % float(tweet_count * 100.0 / tweets_total )\n",
    "            percent_elite = \"%.2f\" % float(tweet_count * 100.0 / tweets_with_hashtags)\n",
    "            print(\"{} tweets with {} hashtags ({}% total, {}% elite)\".format(tweet_count,\n",
    "                                                                             tag_count,\n",
    "                                                                             percent_total,\n",
    "                                                                             percent_elite))"
   ]
  },
  {
   "cell_type": "code",
   "execution_count": null,
   "metadata": {
    "collapsed": true
   },
   "outputs": [],
   "source": []
  },
  {
   "cell_type": "markdown",
   "metadata": {},
   "source": [
    "## User mentions on tweets\n",
    "\n",
    "In a similar way we can see user mentions"
   ]
  },
  {
   "cell_type": "code",
   "execution_count": 10,
   "metadata": {
    "collapsed": true
   },
   "outputs": [],
   "source": [
    "def get_mentions(tweet):\n",
    "    entities = tweet.get('entities', {})\n",
    "    hashtags = entities.get('user_mentions', [])\n",
    "    return [tag['screen_name'] for tag in hashtags]"
   ]
  },
  {
   "cell_type": "code",
   "execution_count": 11,
   "metadata": {
    "collapsed": false
   },
   "outputs": [
    {
     "name": "stdout",
     "output_type": "stream",
     "text": [
      "VUamsterdam: 888\n",
      "VU_Science: 182\n",
      "VU_law: 138\n",
      "VU_FGB: 138\n",
      "advalvas_vu: 117\n",
      "FSW_VU: 91\n",
      "VUmcAmsterdam: 80\n",
      "UniversiteitNL: 73\n",
      "FGWVU: 68\n",
      "VUalumnus: 65\n",
      "FEWEB_VU: 58\n",
      "markvanvugt1: 55\n",
      "VU_FBW: 49\n",
      "Godgeleerdheid: 49\n",
      "VU_Criminologie: 48\n",
      "parool: 44\n",
      "volkskrant: 41\n",
      "NPORadio1: 41\n",
      "vinsub: 41\n",
      "jaapseidell: 38\n"
     ]
    }
   ],
   "source": [
    "fname = 'user_timeline_VUamsterdam.jsonl'\n",
    "with open(fname, 'r') as f:\n",
    "    users = Counter()\n",
    "    for line in f:\n",
    "        tweet = json.loads(line)\n",
    "        mentions_in_tweet = get_mentions(tweet)\n",
    "        users.update(mentions_in_tweet)\n",
    "    for user, count in users.most_common(20):\n",
    "        print(\"{}: {}\".format(user, count))"
   ]
  },
  {
   "cell_type": "markdown",
   "metadata": {},
   "source": [
    "### Tokenization and Text Analysis\n",
    "Now we are gonna read the text of the tweets and process some of the words, checking some statistics also. For this we will use the NLTK library."
   ]
  },
  {
   "cell_type": "markdown",
   "metadata": {},
   "source": [
    "#### In case you have a problem like the one below, uncomment the following lines:\n",
    "![./Problem01.png](./Problem01.png)\n",
    "\n",
    "![./Problem01.png](./Solution01.png)"
   ]
  },
  {
   "cell_type": "markdown",
   "metadata": {},
   "source": [
    "NLTK will be our Natural Language Library! You have to install it (possibly) to make the code work. So uncomment the code below if necessary, and after you install it, then comment it again."
   ]
  },
  {
   "cell_type": "code",
   "execution_count": 12,
   "metadata": {
    "collapsed": true
   },
   "outputs": [],
   "source": [
    "#import nltk\n",
    "#nltk.download()"
   ]
  },
  {
   "cell_type": "code",
   "execution_count": 13,
   "metadata": {
    "collapsed": false
   },
   "outputs": [],
   "source": [
    "from nltk.tokenize import TweetTokenizer\n",
    "from nltk.corpus import stopwords\n",
    "import string"
   ]
  },
  {
   "cell_type": "code",
   "execution_count": 14,
   "metadata": {
    "collapsed": false
   },
   "outputs": [],
   "source": [
    "def process(text, tokenizer=TweetTokenizer(), stopwords=[]):\n",
    "    \"\"\"Process the text of a tweet:\n",
    "    - Lowercase\n",
    "    - Tokenize\n",
    "    - Stopword removal\n",
    "    - Digits removal\n",
    "\n",
    "    Return: list of strings\n",
    "    \"\"\"\n",
    "    text = text.lower()\n",
    "    tokens = tokenizer.tokenize(text)\n",
    "    \n",
    "    # If we want to normalize contraction, uncomment this\n",
    "    tokens = normalize_contractions(tokens)\n",
    "    return [tok for tok in tokens if tok not in stopwords and not tok.isdigit() and tok != u'\\u2026'] "
   ]
  },
  {
   "cell_type": "code",
   "execution_count": 15,
   "metadata": {
    "collapsed": true
   },
   "outputs": [],
   "source": [
    "def normalize_contractions(tokens):\n",
    "    \"\"\"Example of normalization for English contractions.\n",
    "\n",
    "    Return: generator\n",
    "    \"\"\"\n",
    "    token_map = {\n",
    "        \"i'm\": \"i am\",\n",
    "        \"you're\": \"you are\",\n",
    "        \"it's\": \"it is\",\n",
    "        \"we're\": \"we are\",\n",
    "        \"we'll\": \"we will\",\n",
    "    }\n",
    "    for tok in tokens:\n",
    "        if tok in token_map.keys():\n",
    "            for item in token_map[tok].split():\n",
    "                yield item\n",
    "        else:\n",
    "            yield tok"
   ]
  },
  {
   "cell_type": "code",
   "execution_count": 16,
   "metadata": {
    "collapsed": false
   },
   "outputs": [
    {
     "name": "stdout",
     "output_type": "stream",
     "text": [
      "'@vuamsterdam': 892\n",
      "'vu': 312\n",
      "'@vu_science': 182\n",
      "'https': 179\n",
      "'the': 164\n",
      "'onderzoek': 143\n",
      "'@vu_law': 138\n",
      "'@vu_fgb': 138\n",
      "'we': 133\n",
      "'nieuwe': 131\n",
      "'vu-hoogleraar': 130\n",
      "'@advalvas_vu': 117\n",
      "'vandaag': 114\n",
      "'kom': 107\n",
      "'https://t.…': 96\n",
      "'a': 96\n",
      "'vanavond': 94\n",
      "'onze': 94\n",
      "'@fsw_vu': 91\n",
      "'amsterdam': 88\n",
      "'’': 87\n",
      "'#wvdw': 85\n",
      "'#vuconferentie': 85\n",
      "'tijdens': 83\n",
      "'hoogleraar': 83\n",
      "'@vumcamsterdam': 80\n",
      "'https://t.c…': 78\n",
      "':/': 77\n",
      "'https://t.co…': 77\n",
      "'to': 76\n"
     ]
    }
   ],
   "source": [
    "tweet_tokenizer = TweetTokenizer()\n",
    "\n",
    "punct = list(string.punctuation)\n",
    "stopword_list = stopwords.words('dutch') + punct + ['rt', 'via'] \n",
    "\n",
    "fname = 'user_timeline_VUamsterdam.jsonl'\n",
    "tf = Counter()\n",
    "with open(fname, 'r') as f:\n",
    "    for line in f:\n",
    "        tweet = json.loads(line)\n",
    "        tokens = process(text=tweet.get('text', ''),\n",
    "                         tokenizer=tweet_tokenizer,\n",
    "                         stopwords=stopword_list)\n",
    "        tf.update(tokens)\n",
    "    for tag, count in tf.most_common(30):\n",
    "        print(\"\\'{}\\': {}\".format(tag.encode('utf-8'), count))"
   ]
  },
  {
   "cell_type": "markdown",
   "metadata": {},
   "source": [
    "### Plotting frequency\n",
    "\n",
    "Instead of printing the values of frequency we can create graphics that allow us to visualize the results better."
   ]
  },
  {
   "cell_type": "code",
   "execution_count": 17,
   "metadata": {
    "collapsed": false
   },
   "outputs": [
    {
     "name": "stderr",
     "output_type": "stream",
     "text": [
      "/Users/vu/anaconda/lib/python2.7/site-packages/matplotlib/font_manager.py:273: UserWarning: Matplotlib is building the font cache using fc-list. This may take a moment.\n",
      "  warnings.warn('Matplotlib is building the font cache using fc-list. This may take a moment.')\n"
     ]
    }
   ],
   "source": [
    "%matplotlib inline\n",
    "import matplotlib.pyplot as plt"
   ]
  },
  {
   "cell_type": "code",
   "execution_count": 18,
   "metadata": {
    "collapsed": false
   },
   "outputs": [
    {
     "data": {
      "image/png": "[encoded data removed]",
      "text/plain": [
       "<matplotlib.figure.Figure at 0x111be8b90>"
      ]
     },
     "metadata": {},
     "output_type": "display_data"
    }
   ],
   "source": [
    "import numpy as np\n",
    "\n",
    "tweet_tokenizer = TweetTokenizer()\n",
    "punct = list(string.punctuation)\n",
    "stopword_list = stopwords.words('dutch') + punct + ['rt', 'via']\n",
    "\n",
    "fname = 'user_timeline_VUamsterdam.jsonl'\n",
    "tf = Counter()\n",
    "with open(fname, 'r') as f:\n",
    "    for line in f:\n",
    "        tweet = json.loads(line)\n",
    "        tokens = process(text=tweet.get('text', ''),\n",
    "                         tokenizer=tweet_tokenizer,\n",
    "                         stopwords=stopword_list)\n",
    "        tf.update(tokens)\n",
    "        \n",
    "    tags = [tag for tag, count in tf.most_common(30)]\n",
    "    \n",
    "    #print tags\n",
    "    y = [count for tag, count in tf.most_common(30)]\n",
    "    x = range(1, len(y)+1)\n",
    "\n",
    "    plt.figure(figsize=(14,7), dpi=300)\n",
    "\n",
    "    plt.bar(x, y, align='center', alpha=0.5)\n",
    "    plt.title(\"Term Frequencies\")\n",
    "    plt.ylabel(\"Frequency\")\n",
    "    plt.xticks(range(1,len(tags)+1), tags, rotation=90)\n",
    "    plt.savefig('term_distribution.png')"
   ]
  },
  {
   "cell_type": "code",
   "execution_count": 19,
   "metadata": {
    "collapsed": true
   },
   "outputs": [],
   "source": [
    "### The same can be done for the hashtags"
   ]
  },
  {
   "cell_type": "code",
   "execution_count": 20,
   "metadata": {
    "collapsed": false,
    "scrolled": false
   },
   "outputs": [
    {
     "name": "stdout",
     "output_type": "stream",
     "text": [
      "vuconferentie: 84\n",
      "wvdw: 84\n",
      "opendagvu: 74\n",
      "ech2016: 70\n",
      "oaj15: 51\n",
      "diesvu: 51\n",
      "vu: 45\n",
      "s4sconference: 42\n",
      "vuevent: 41\n",
      "oaj16: 22\n",
      "sustainability: 21\n",
      "vumag: 21\n",
      "cleansea: 19\n",
      "vumasterdag: 16\n",
      "zwaartekrachtsgolven: 15\n",
      "terugkijktip: 15\n",
      "rio2016: 12\n",
      "meddeaths: 12\n",
      "amsterdam: 12\n",
      "criminologie: 11\n",
      "aardwetenschappen: 10\n",
      "actualiteitencollege: 10\n",
      "vuamsterdam: 10\n",
      "icc: 10\n",
      "vumasters: 9\n",
      "viva400: 8\n",
      "mismatch: 8\n",
      "teamnl: 8\n",
      "vrijheidsmaaltijd: 8\n",
      "weekendvandewetenschap: 7\n"
     ]
    },
    {
     "data": {
      "image/png": "[encoded data removed]",
      "text/plain": [
       "<matplotlib.figure.Figure at 0x109579950>"
      ]
     },
     "metadata": {},
     "output_type": "display_data"
    }
   ],
   "source": [
    "def get_hashtags(tweet):\n",
    "    entities = tweet.get('entities', {})\n",
    "    hashtags = entities.get('hashtags', [])\n",
    "    return [tag['text'].lower() for tag in hashtags]\n",
    "\n",
    "fname = 'user_timeline_VUamsterdam.jsonl'\n",
    "with open(fname, 'r') as f:\n",
    "    hashtags = Counter()\n",
    "    for line in f:\n",
    "        tweet = json.loads(line)\n",
    "        hashtags_in_tweet = get_hashtags(tweet)\n",
    "        hashtags.update(hashtags_in_tweet)\n",
    "    for tag, count in hashtags.most_common(30):\n",
    "        print(\"{}: {}\".format(tag, count))\n",
    "\n",
    "    tags = [tag for tag, count in hashtags.most_common(30)]\n",
    "    \n",
    "    #print tags\n",
    "    y = [count for tag, count in hashtags.most_common(30)]\n",
    "    x = range(1, len(y)+1)\n",
    "\n",
    "    plt.figure(figsize=(14,7), dpi=300)\n",
    "\n",
    "    plt.bar(x, y, align='center', alpha=0.5)\n",
    "    plt.title(\"Hashtags Frequencies\")\n",
    "    plt.ylabel(\"Frequency\")\n",
    "    plt.xticks(range(1,len(tags)+1), tags, rotation=90)\n",
    "    plt.savefig('hashtags_distribution.png')"
   ]
  },
  {
   "cell_type": "markdown",
   "metadata": {},
   "source": [
    "## Activity 2\n",
    "Change the code above to show the 1000 most common hashtags. And write about the results."
   ]
  },
  {
   "cell_type": "code",
   "execution_count": null,
   "metadata": {
    "collapsed": false
   },
   "outputs": [],
   "source": []
  },
  {
   "cell_type": "markdown",
   "metadata": {},
   "source": [
    "# Streaming\n",
    "Streaming is a way to keep a 'door' open listening to the twitter flow of interactions over time. This allow us to collect more data than permited with all the restrictions of the API."
   ]
  },
  {
   "cell_type": "code",
   "execution_count": 21,
   "metadata": {
    "collapsed": false
   },
   "outputs": [],
   "source": [
    "import string\n",
    "import time\n",
    "from tweepy import Stream\n",
    "from tweepy.streaming import StreamListener"
   ]
  },
  {
   "cell_type": "code",
   "execution_count": 22,
   "metadata": {
    "collapsed": true
   },
   "outputs": [],
   "source": [
    "def format_filename(fname):\n",
    "    \"\"\"Convert fname into a safe string for a file name.\n",
    "\n",
    "    Return: string\n",
    "    \"\"\"\n",
    "    return ''.join(convert_valid(one_char) for one_char in fname)"
   ]
  },
  {
   "cell_type": "code",
   "execution_count": 23,
   "metadata": {
    "collapsed": true
   },
   "outputs": [],
   "source": [
    "def convert_valid(one_char):\n",
    "    \"\"\"Convert a character into '_' if \"invalid\".\n",
    "\n",
    "    Return: string\n",
    "    \"\"\"\n",
    "    valid_chars = \"-_.%s%s\" % (string.ascii_letters, string.digits)\n",
    "    if one_char in valid_chars:\n",
    "        return one_char\n",
    "    else:\n",
    "        return '_'"
   ]
  },
  {
   "cell_type": "code",
   "execution_count": 24,
   "metadata": {
    "collapsed": true
   },
   "outputs": [],
   "source": [
    "class CustomListener(StreamListener):\n",
    "    \"\"\"Custom StreamListener for streaming Twitter data.\"\"\"\n",
    "\n",
    "    def __init__(self, fname):\n",
    "        safe_fname = format_filename(fname)\n",
    "        self.outfile = \"stream_%s.jsonl\" % safe_fname\n",
    "\n",
    "    def on_data(self, data):\n",
    "        try:\n",
    "            with open(self.outfile, 'a') as f:\n",
    "                f.write(data)\n",
    "                return True\n",
    "        except BaseException as e:\n",
    "            sys.stderr.write(\"Error on_data: {}\\n\".format(e))\n",
    "            time.sleep(5)\n",
    "        return True\n",
    "\n",
    "    def on_error(self, status):\n",
    "        if status == 420:\n",
    "            sys.stderr.write(\"Rate limit exceeded\\n\".format(status))\n",
    "            return False\n",
    "        else:\n",
    "            sys.stderr.write(\"Error {}\\n\".format(status))\n",
    "            return True"
   ]
  },
  {
   "cell_type": "markdown",
   "metadata": {},
   "source": [
    "The **stream** will run for 120 seconds and the query is Ireland OR footbal. If you want the occurrence of two values together, like Ireland AND football, we should pass the query = ['Ireland footbal']"
   ]
  },
  {
   "cell_type": "code",
   "execution_count": 25,
   "metadata": {
    "collapsed": false
   },
   "outputs": [],
   "source": [
    "query = ['Ireland', 'football']\n",
    "query_fname = ' '.join(query) # string\n",
    "auth = get_twitter_auth()\n",
    "twitter_stream = Stream(auth, CustomListener(query_fname))\n",
    "twitter_stream.filter(track=query, async=True)\n",
    "time.sleep(120)\n",
    "# TO stop your streaming...\n",
    "twitter_stream.running = False"
   ]
  },
  {
   "cell_type": "code",
   "execution_count": 26,
   "metadata": {
    "collapsed": true
   },
   "outputs": [],
   "source": [
    "# TO stop your streaming...\n",
    "#twitter_stream.running = False"
   ]
  },
  {
   "cell_type": "markdown",
   "metadata": {},
   "source": [
    "## Activity 3\n",
    "Now, create your own query, and pay attention on where are the results of the query being saved. Can you tell just looking at the code?\n",
    "\n",
    "Choose your query with wisdom, 'cause you are going to use it next. You can also increase the time if you want to capture more tweets."
   ]
  },
  {
   "cell_type": "markdown",
   "metadata": {},
   "source": [
    "# Sentiment Analysis of the Tweets\n",
    "\n",
    "Change the file to your stream file in order to get the right dataset."
   ]
  },
  {
   "cell_type": "code",
   "execution_count": 27,
   "metadata": {
    "collapsed": false
   },
   "outputs": [
    {
     "name": "stdout",
     "output_type": "stream",
     "text": [
      "stream_Ireland_football.jsonl\n"
     ]
    },
    {
     "name": "stderr",
     "output_type": "stream",
     "text": [
      "/Users/vu/anaconda/lib/python2.7/site-packages/unidecode/__init__.py:50: RuntimeWarning: Surrogate character u'\\ud83c' will be ignored. You might be using a narrow Python build.\n",
      "  return _unidecode(string)\n",
      "/Users/vu/anaconda/lib/python2.7/site-packages/unidecode/__init__.py:50: RuntimeWarning: Surrogate character u'\\udf08' will be ignored. You might be using a narrow Python build.\n",
      "  return _unidecode(string)\n",
      "/Users/vu/anaconda/lib/python2.7/site-packages/unidecode/__init__.py:50: RuntimeWarning: Surrogate character u'\\udf75' will be ignored. You might be using a narrow Python build.\n",
      "  return _unidecode(string)\n",
      "/Users/vu/anaconda/lib/python2.7/site-packages/unidecode/__init__.py:50: RuntimeWarning: Surrogate character u'\\ud83d' will be ignored. You might be using a narrow Python build.\n",
      "  return _unidecode(string)\n",
      "/Users/vu/anaconda/lib/python2.7/site-packages/unidecode/__init__.py:50: RuntimeWarning: Surrogate character u'\\udcf7' will be ignored. You might be using a narrow Python build.\n",
      "  return _unidecode(string)\n",
      "/Users/vu/anaconda/lib/python2.7/site-packages/unidecode/__init__.py:50: RuntimeWarning: Surrogate character u'\\udf89' will be ignored. You might be using a narrow Python build.\n",
      "  return _unidecode(string)\n",
      "/Users/vu/anaconda/lib/python2.7/site-packages/unidecode/__init__.py:50: RuntimeWarning: Surrogate character u'\\udfc5' will be ignored. You might be using a narrow Python build.\n",
      "  return _unidecode(string)\n",
      "/Users/vu/anaconda/lib/python2.7/site-packages/unidecode/__init__.py:50: RuntimeWarning: Surrogate character u'\\ude01' will be ignored. You might be using a narrow Python build.\n",
      "  return _unidecode(string)\n",
      "/Users/vu/anaconda/lib/python2.7/site-packages/unidecode/__init__.py:50: RuntimeWarning: Surrogate character u'\\ude1c' will be ignored. You might be using a narrow Python build.\n",
      "  return _unidecode(string)\n",
      "/Users/vu/anaconda/lib/python2.7/site-packages/unidecode/__init__.py:50: RuntimeWarning: Surrogate character u'\\ude0d' will be ignored. You might be using a narrow Python build.\n",
      "  return _unidecode(string)\n",
      "/Users/vu/anaconda/lib/python2.7/site-packages/unidecode/__init__.py:50: RuntimeWarning: Surrogate character u'\\udcaa' will be ignored. You might be using a narrow Python build.\n",
      "  return _unidecode(string)\n",
      "/Users/vu/anaconda/lib/python2.7/site-packages/unidecode/__init__.py:50: RuntimeWarning: Surrogate character u'\\ude03' will be ignored. You might be using a narrow Python build.\n",
      "  return _unidecode(string)\n"
     ]
    }
   ],
   "source": [
    "from unidecode import unidecode\n",
    "tweets = []\n",
    "text_tweets = []\n",
    "fileTweets = \"stream_Ireland_football.jsonl\"\n",
    "print fileTweets\n",
    "with open(fname, 'r') as f:\n",
    "    for line in f:\n",
    "        tweet = json.loads(line)\n",
    "        #print tweet\n",
    "        try:\n",
    "            aux = { \"text\" : unidecode(tweet['text'].replace('\"','')), \"language\": tweet['lang'],  \"query\" : query, \"id\" : tweet['id'] }\n",
    "            text_tweets.append(tweet['text'])\n",
    "            tweets.append(aux)\n",
    "        except:\n",
    "            print 'no text', tweet"
   ]
  },
  {
   "cell_type": "code",
   "execution_count": 28,
   "metadata": {
    "collapsed": false
   },
   "outputs": [
    {
     "data": {
      "text/plain": [
       "3197"
      ]
     },
     "execution_count": 28,
     "metadata": {},
     "output_type": "execute_result"
    }
   ],
   "source": [
    "len(tweets)"
   ]
  },
  {
   "cell_type": "code",
   "execution_count": 29,
   "metadata": {
    "collapsed": false
   },
   "outputs": [
    {
     "data": {
      "text/plain": [
       "{'id': 799169521483476992,\n",
       " 'language': u'nl',\n",
       " 'query': ['Ireland', 'football'],\n",
       " 'text': 'RT @FSW_VU: Antropologen bewandelen in hun loopbaan de weg der geleidelijkheid, schrijft Freek Colombijn @standplaatswrld https://t.co/b92y...'}"
      ]
     },
     "execution_count": 29,
     "metadata": {},
     "output_type": "execute_result"
    }
   ],
   "source": [
    "tweets[7]"
   ]
  },
  {
   "cell_type": "code",
   "execution_count": 30,
   "metadata": {
    "collapsed": true
   },
   "outputs": [],
   "source": [
    "result = { \"data\" : tweets }"
   ]
  },
  {
   "cell_type": "code",
   "execution_count": 31,
   "metadata": {
    "collapsed": true
   },
   "outputs": [],
   "source": [
    "def parse_response(json_response):\n",
    "    negative_tweets, positive_tweets = 0, 0\n",
    "    for j in json_response[\"data\"]:\n",
    "        if int(j[\"polarity\"]) == 0:\n",
    "            negative_tweets += 1\n",
    "        elif int(j[\"polarity\"]) == 4:\n",
    "            positive_tweets += 1\n",
    "    return negative_tweets, positive_tweets"
   ]
  },
  {
   "cell_type": "code",
   "execution_count": 32,
   "metadata": {
    "collapsed": false
   },
   "outputs": [
    {
     "name": "stdout",
     "output_type": "stream",
     "text": [
      "Positive Tweets: 839\n",
      "Negative Tweets: 2\n"
     ]
    }
   ],
   "source": [
    "import urllib2\n",
    "URL_SENTIMENT140 = \"http://www.sentiment140.com/api/bulkClassifyJson\"\n",
    "req = urllib2.Request(URL_SENTIMENT140)\n",
    "req.add_header('Content-Type', 'application/json')\n",
    "response = urllib2.urlopen(req, str(result))\n",
    "json_response = json.loads(response.read())\n",
    "negative_tweets, positive_tweets = parse_response(json_response)\n",
    "\n",
    "print \"Positive Tweets: \" + str(positive_tweets)\n",
    "print \"Negative Tweets: \" + str(negative_tweets)"
   ]
  },
  {
   "cell_type": "markdown",
   "metadata": {},
   "source": [
    "## Activity 4\n",
    "\n",
    "1. Print a list of 5 positive and 5 negative tweets using the positive_tweets and negative_tweets list.\n",
    "2. Try to understand and explain the results obtained."
   ]
  },
  {
   "cell_type": "code",
   "execution_count": null,
   "metadata": {
    "collapsed": false
   },
   "outputs": [],
   "source": []
  },
  {
   "cell_type": "markdown",
   "metadata": {},
   "source": [
    "# [Extra] Time Series Analysis\n",
    "**If you have time, and wanna learn more about time series analysis, leave your stream running longer (for one hour or two, for instance) and try the code below. From this part on won't be graded!**\n",
    "\n",
    "The time series analysis evaluates the tweets over time, giving us an idea about how many tweets were collected every minute. Remember to change the name of fname in case you changed your query."
   ]
  },
  {
   "cell_type": "code",
   "execution_count": 33,
   "metadata": {
    "collapsed": false
   },
   "outputs": [],
   "source": [
    "from datetime import datetime\n",
    "import matplotlib.pyplot as plt\n",
    "import matplotlib.dates as mdates\n",
    "\n",
    "import pandas as pd\n",
    "import numpy as np\n",
    "import pickle"
   ]
  },
  {
   "cell_type": "code",
   "execution_count": 34,
   "metadata": {
    "collapsed": true
   },
   "outputs": [],
   "source": [
    "#fname = 'stream_Brasil_Argentina_Mineirao.jsonl'\n",
    "fname = 'stream_Ireland_football.jsonl'\n",
    "\n",
    "with open(fname, 'r') as f:\n",
    "    all_dates = []\n",
    "    for line in f:\n",
    "        tweet = json.loads(line)\n",
    "        all_dates.append(tweet.get('created_at'))\n",
    "    "
   ]
  },
  {
   "cell_type": "code",
   "execution_count": 35,
   "metadata": {
    "collapsed": true
   },
   "outputs": [],
   "source": [
    "ones = np.ones(len(all_dates))\n",
    "idx = pd.DatetimeIndex(all_dates)\n",
    "# the actual series (at series of 1s for the moment)\n",
    "my_series = pd.Series(ones, index=idx)"
   ]
  },
  {
   "cell_type": "code",
   "execution_count": 36,
   "metadata": {
    "collapsed": false
   },
   "outputs": [
    {
     "name": "stdout",
     "output_type": "stream",
     "text": [
      "2016-11-12 18:38:52    1.0\n",
      "2016-11-12 18:38:52    1.0\n",
      "2016-11-12 18:38:52    1.0\n",
      "2016-11-12 18:38:53    1.0\n",
      "2016-11-12 18:38:53    1.0\n",
      "dtype: float64\n",
      "2016-11-12 18:38:00     37.0\n",
      "2016-11-12 18:39:00    418.0\n",
      "2016-11-12 18:40:00    498.0\n",
      "2016-11-12 18:41:00    510.0\n",
      "2016-11-12 18:42:00    495.0\n",
      "2016-11-12 18:43:00    532.0\n",
      "2016-11-12 18:44:00    310.0\n",
      "2016-11-12 18:45:00    353.0\n",
      "2016-11-12 18:46:00    345.0\n",
      "2016-11-12 18:47:00      0.0\n",
      "2016-11-12 18:48:00      0.0\n",
      "2016-11-12 18:49:00      0.0\n",
      "2016-11-12 18:50:00      0.0\n",
      "2016-11-12 18:51:00      0.0\n",
      "2016-11-12 18:52:00      0.0\n",
      "2016-11-12 18:53:00      0.0\n",
      "2016-11-12 18:54:00      0.0\n",
      "2016-11-12 18:55:00      0.0\n",
      "2016-11-12 18:56:00      0.0\n",
      "2016-11-12 18:57:00      0.0\n",
      "2016-11-12 18:58:00      0.0\n",
      "2016-11-12 18:59:00      0.0\n",
      "2016-11-12 19:00:00      0.0\n",
      "2016-11-12 19:01:00      0.0\n",
      "2016-11-12 19:02:00      0.0\n",
      "2016-11-12 19:03:00      0.0\n",
      "2016-11-12 19:04:00      0.0\n",
      "2016-11-12 19:05:00      0.0\n",
      "2016-11-12 19:06:00      0.0\n",
      "2016-11-12 19:07:00      0.0\n",
      "dtype: float64\n"
     ]
    }
   ],
   "source": [
    "# Resampling / bucketing into 1-minute buckets\n",
    "per_minute = my_series.resample('1Min').sum().fillna(0)\n",
    "print(my_series.head())\n",
    "print(per_minute.head(30))"
   ]
  },
  {
   "cell_type": "code",
   "execution_count": 37,
   "metadata": {
    "collapsed": false
   },
   "outputs": [
    {
     "data": {
      "image/png": "[encoded data removed]",
      "text/plain": [
       "<matplotlib.figure.Figure at 0x1234976d0>"
      ]
     },
     "metadata": {},
     "output_type": "display_data"
    }
   ],
   "source": [
    "fig, ax = plt.subplots()\n",
    "ax.grid(True)\n",
    "ax.set_title(\"Tweet Frequencies\")\n",
    "\n",
    "hours = mdates.MinuteLocator(interval=1)\n",
    "date_formatter = mdates.DateFormatter('%H:%M')\n",
    "\n",
    "datemin = datetime(2016, 11, 12, 18, 37)\n",
    "datemax = datetime(2016, 11, 12, 18, 47)\n",
    "\n",
    "ax.xaxis.set_major_locator(hours)\n",
    "ax.xaxis.set_major_formatter(date_formatter)\n",
    "ax.set_xlim(datemin, datemax)\n",
    "max_freq = per_minute.max()\n",
    "ax.set_ylim(0, max_freq+100)\n",
    "ax.plot(per_minute.index, per_minute)\n",
    "\n",
    "#ax.xticks(rotation=90)\n",
    "\n",
    "plt.savefig('tweet_time_series.png')"
   ]
  },
  {
   "cell_type": "markdown",
   "metadata": {},
   "source": [
    "# [Extra] Users, Followers and Communities\n",
    "\n",
    "This section is not part of the assignment. Just read and play with it if you wanna learn a little bit of how to get users that are followers or friends of a certain node."
   ]
  },
  {
   "cell_type": "code",
   "execution_count": 38,
   "metadata": {
    "collapsed": false
   },
   "outputs": [
    {
     "name": "stdout",
     "output_type": "stream",
     "text": [
      "{\n",
      "    \"follow_request_sent\": false, \n",
      "    \"has_extended_profile\": false, \n",
      "    \"profile_use_background_image\": false, \n",
      "    \"profile_text_color\": \"000000\", \n",
      "    \"default_profile_image\": false, \n",
      "    \"suspended\": false, \n",
      "    \"id\": 40952530, \n",
      "    \"profile_background_image_url_https\": \"https://abs.twimg.com/images/themes/theme15/bg.png\", \n",
      "    \"verified\": false, \n",
      "    \"translator_type\": \"none\", \n",
      "    \"profile_location\": {\n",
      "        \"full_name\": \"Amsterdam, The Netherlands\", \n",
      "        \"url\": \"https://api.twitter.com/1.1/geo/id/99cdab25eddd6bce.json\", \n",
      "        \"country\": \"\", \n",
      "        \"place_type\": \"unknown\", \n",
      "        \"bounding_box\": null, \n",
      "        \"contained_within\": [], \n",
      "        \"country_code\": \"\", \n",
      "        \"attributes\": {}, \n",
      "        \"id\": \"99cdab25eddd6bce\", \n",
      "        \"name\": \"Amsterdam, The Netherlands\"\n",
      "    }, \n",
      "    \"profile_image_url_https\": \"https://pbs.twimg.com/profile_images/1783085910/perfil1_normal.jpg\", \n",
      "    \"profile_sidebar_fill_color\": \"000000\", \n",
      "    \"entities\": {\n",
      "        \"url\": {\n",
      "            \"urls\": [\n",
      "                {\n",
      "                    \"url\": \"http://t.co/Jl7Ny3Vh7Q\", \n",
      "                    \"indices\": [\n",
      "                        0, \n",
      "                        22\n",
      "                    ], \n",
      "                    \"expanded_url\": \"http://garotoreformado.blogspot.com\", \n",
      "                    \"display_url\": \"garotoreformado.blogspot.com\"\n",
      "                }\n",
      "            ]\n",
      "        }, \n",
      "        \"description\": {\n",
      "            \"urls\": []\n",
      "        }\n",
      "    }, \n",
      "    \"followers_count\": 350, \n",
      "    \"profile_sidebar_border_color\": \"000000\", \n",
      "    \"id_str\": \"40952530\", \n",
      "    \"profile_background_color\": \"000000\", \n",
      "    \"needs_phone_verification\": false, \n",
      "    \"listed_count\": 6, \n",
      "    \"status\": {\n",
      "        \"contributors\": null, \n",
      "        \"truncated\": false, \n",
      "        \"text\": \"RT @igorpensar: Qualifica\\u00e7\\u00e3o de refugiados na Alemanha surpreende https://t.co/SqxybwdmSJ\", \n",
      "        \"is_quote_status\": false, \n",
      "        \"in_reply_to_status_id\": null, \n",
      "        \"id\": 798920866423664640, \n",
      "        \"favorite_count\": 0, \n",
      "        \"source\": \"<a href=\\\"http://twitter.com\\\" rel=\\\"nofollow\\\">Twitter Web Client</a>\", \n",
      "        \"retweeted\": true, \n",
      "        \"coordinates\": null, \n",
      "        \"entities\": {\n",
      "            \"symbols\": [], \n",
      "            \"user_mentions\": [\n",
      "                {\n",
      "                    \"id\": 57374485, \n",
      "                    \"indices\": [\n",
      "                        3, \n",
      "                        14\n",
      "                    ], \n",
      "                    \"id_str\": \"57374485\", \n",
      "                    \"screen_name\": \"igorpensar\", \n",
      "                    \"name\": \"Igor Miguel\"\n",
      "                }\n",
      "            ], \n",
      "            \"hashtags\": [], \n",
      "            \"urls\": [\n",
      "                {\n",
      "                    \"url\": \"https://t.co/SqxybwdmSJ\", \n",
      "                    \"indices\": [\n",
      "                        66, \n",
      "                        89\n",
      "                    ], \n",
      "                    \"expanded_url\": \"http://fb.me/5qNtB4fAu\", \n",
      "                    \"display_url\": \"fb.me/5qNtB4fAu\"\n",
      "                }\n",
      "            ]\n",
      "        }, \n",
      "        \"in_reply_to_screen_name\": null, \n",
      "        \"in_reply_to_user_id\": null, \n",
      "        \"retweet_count\": 1, \n",
      "        \"id_str\": \"798920866423664640\", \n",
      "        \"favorited\": true, \n",
      "        \"retweeted_status\": {\n",
      "            \"contributors\": null, \n",
      "            \"truncated\": false, \n",
      "            \"text\": \"Qualifica\\u00e7\\u00e3o de refugiados na Alemanha surpreende https://t.co/SqxybwdmSJ\", \n",
      "            \"is_quote_status\": false, \n",
      "            \"in_reply_to_status_id\": null, \n",
      "            \"id\": 798827616950067204, \n",
      "            \"favorite_count\": 1, \n",
      "            \"source\": \"<a href=\\\"http://www.facebook.com/twitter\\\" rel=\\\"nofollow\\\">Facebook</a>\", \n",
      "            \"retweeted\": true, \n",
      "            \"coordinates\": null, \n",
      "            \"entities\": {\n",
      "                \"symbols\": [], \n",
      "                \"user_mentions\": [], \n",
      "                \"hashtags\": [], \n",
      "                \"urls\": [\n",
      "                    {\n",
      "                        \"url\": \"https://t.co/SqxybwdmSJ\", \n",
      "                        \"indices\": [\n",
      "                            50, \n",
      "                            73\n",
      "                        ], \n",
      "                        \"expanded_url\": \"http://fb.me/5qNtB4fAu\", \n",
      "                        \"display_url\": \"fb.me/5qNtB4fAu\"\n",
      "                    }\n",
      "                ]\n",
      "            }, \n",
      "            \"in_reply_to_screen_name\": null, \n",
      "            \"in_reply_to_user_id\": null, \n",
      "            \"retweet_count\": 1, \n",
      "            \"id_str\": \"798827616950067204\", \n",
      "            \"favorited\": true, \n",
      "            \"geo\": null, \n",
      "            \"in_reply_to_user_id_str\": null, \n",
      "            \"possibly_sensitive\": false, \n",
      "            \"lang\": \"pt\", \n",
      "            \"created_at\": \"Wed Nov 16 09:58:40 +0000 2016\", \n",
      "            \"in_reply_to_status_id_str\": null, \n",
      "            \"place\": null\n",
      "        }, \n",
      "        \"geo\": null, \n",
      "        \"in_reply_to_user_id_str\": null, \n",
      "        \"possibly_sensitive\": false, \n",
      "        \"lang\": \"pt\", \n",
      "        \"created_at\": \"Wed Nov 16 16:09:12 +0000 2016\", \n",
      "        \"in_reply_to_status_id_str\": null, \n",
      "        \"place\": null\n",
      "    }, \n",
      "    \"is_translation_enabled\": false, \n",
      "    \"utc_offset\": 3600, \n",
      "    \"statuses_count\": 2364, \n",
      "    \"description\": \"PhD Candidate at the VU Amsterdam. Interests on Social Contagion, Social Network, Agente-based models, python and Christian theology.\", \n",
      "    \"friends_count\": 309, \n",
      "    \"location\": \"Amsterdam, The Netherlands\", \n",
      "    \"profile_link_color\": \"FF691F\", \n",
      "    \"profile_image_url\": \"http://pbs.twimg.com/profile_images/1783085910/perfil1_normal.jpg\", \n",
      "    \"following\": false, \n",
      "    \"geo_enabled\": true, \n",
      "    \"profile_banner_url\": \"https://pbs.twimg.com/profile_banners/40952530/1477484875\", \n",
      "    \"profile_background_image_url\": \"http://abs.twimg.com/images/themes/theme15/bg.png\", \n",
      "    \"name\": \"Eric Ara\\u00fajo\", \n",
      "    \"lang\": \"en\", \n",
      "    \"profile_background_tile\": false, \n",
      "    \"favourites_count\": 173, \n",
      "    \"screen_name\": \"ericinlinux\", \n",
      "    \"notifications\": false, \n",
      "    \"url\": \"http://t.co/Jl7Ny3Vh7Q\", \n",
      "    \"created_at\": \"Mon May 18 19:55:45 +0000 2009\", \n",
      "    \"contributors_enabled\": false, \n",
      "    \"time_zone\": \"Amsterdam\", \n",
      "    \"protected\": false, \n",
      "    \"default_profile\": false, \n",
      "    \"is_translator\": false\n",
      "}\n"
     ]
    }
   ],
   "source": [
    "client = get_twitter_client()\n",
    "profile = client.get_user(screen_name='ericinlinux')\n",
    "print(json.dumps(profile._json, indent=4))"
   ]
  },
  {
   "cell_type": "code",
   "execution_count": 39,
   "metadata": {
    "collapsed": true
   },
   "outputs": [],
   "source": [
    "import time\n",
    "import math\n",
    "\n",
    "MAX_FRIENDS = 15000\n",
    "\n",
    "def paginate(items, n):\n",
    "    \"\"\"Generate n-sized chunks from items\"\"\"\n",
    "    for i in range(0, len(items), n):\n",
    "        yield items[i:i+n]"
   ]
  },
  {
   "cell_type": "code",
   "execution_count": 40,
   "metadata": {
    "collapsed": false
   },
   "outputs": [
    {
     "name": "stdout",
     "output_type": "stream",
     "text": [
      "Directory users/ericinlinux already exists\n"
     ]
    }
   ],
   "source": [
    "screen_name = 'ericinlinux'\n",
    "\n",
    "client = get_twitter_client()\n",
    "dirname = \"users/{}\".format(screen_name)\n",
    "max_pages = math.ceil(MAX_FRIENDS / 5000)\n",
    "\n",
    "try:\n",
    "    \n",
    "    os.makedirs(dirname)\n",
    "except OSError:\n",
    "    print(\"Directory {} already exists\".format(dirname))\n",
    "except Exception as e:\n",
    "    print(\"Error while creating directory {}\".format(dirname))\n",
    "    print(e)\n",
    "    sys.exit(1)"
   ]
  },
  {
   "cell_type": "code",
   "execution_count": 41,
   "metadata": {
    "collapsed": false
   },
   "outputs": [],
   "source": [
    "# get followers for a given user\n",
    "fname = \"users/{}/followers.jsonl\".format(screen_name)\n",
    "with open(fname, 'w') as f:\n",
    "    for followers in Cursor(client.followers_ids, screen_name=screen_name).pages(max_pages):\n",
    "        for chunk in paginate(followers, 100):\n",
    "            users = client.lookup_users(user_ids=chunk)\n",
    "            for user in users:\n",
    "                f.write(json.dumps(user._json)+\"\\n\")\n",
    "        if len(followers) == 5000:\n",
    "            print(\"More results available. Sleeping for 60 seconds to avoid rate limit\")\n",
    "            time.sleep(60)\n",
    "\n",
    "# get friends for a given user\n",
    "fname = \"users/{}/friends.jsonl\".format(screen_name)\n",
    "with open(fname, 'w') as f:\n",
    "    for friends in Cursor(client.friends_ids, screen_name=screen_name).pages(max_pages):\n",
    "        for chunk in paginate(friends, 100):\n",
    "            users = client.lookup_users(user_ids=chunk)\n",
    "            for user in users:\n",
    "                f.write(json.dumps(user._json)+\"\\n\")\n",
    "        if len(friends) == 5000:\n",
    "            print(\"More results available. Sleeping for 60 seconds to avoid rate limit\")\n",
    "            time.sleep(60)\n",
    "\n",
    "# get user's profile\n",
    "fname = \"users/{}/user_profile.json\".format(screen_name)\n",
    "with open(fname, 'w') as f:\n",
    "    profile = client.get_user(screen_name=screen_name)\n",
    "    f.write(json.dumps(profile._json, indent=4))"
   ]
  },
  {
   "cell_type": "code",
   "execution_count": null,
   "metadata": {
    "collapsed": true
   },
   "outputs": [],
   "source": []
  }
 ],
 "metadata": {
  "anaconda-cloud": {},
  "kernelspec": {
   "display_name": "Python [Root]",
   "language": "python",
   "name": "Python [Root]"
  },
  "language_info": {
   "codemirror_mode": {
    "name": "ipython",
    "version": 2
   },
   "file_extension": ".py",
   "mimetype": "text/x-python",
   "name": "python",
   "nbconvert_exporter": "python",
   "pygments_lexer": "ipython2",
   "version": "2.7.12"
  }
 },
 "nbformat": 4,
 "nbformat_minor": 0
}
